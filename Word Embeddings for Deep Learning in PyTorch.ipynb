{
 "cells": [
  {
   "cell_type": "markdown",
   "metadata": {},
   "source": [
    "- https://towardsdatascience.com/deep-learning-for-nlp-with-pytorch-and-torchtext-4f92d69052f"
   ]
  },
  {
   "cell_type": "markdown",
   "metadata": {
    "colab_type": "text",
    "id": "dcf0gIxW1jrR"
   },
   "source": [
    "# Deep Learning For NLP with PyTorch and Torchtext\n",
    "\n",
    "This is the companion code for my article in medium. There will be no further explanation here, just pure code. "
   ]
  },
  {
   "cell_type": "code",
   "execution_count": 1,
   "metadata": {
    "colab": {},
    "colab_type": "code",
    "id": "iD0B0gk61jrT"
   },
   "outputs": [],
   "source": [
    "import torch\n",
    "import torch.nn as nn\n",
    "import torch.nn.functional as F\n",
    "from torch.optim import Adam\n",
    "\n",
    "from torchtext.data import Field \n",
    "from torchtext.data import Dataset, Example\n",
    "from torchtext.data import BucketIterator\n",
    "from torchtext.vocab import FastText\n",
    "from torchtext.vocab import CharNGram\n",
    "\n",
    "import pandas as pd\n",
    "import numpy as np"
   ]
  },
  {
   "cell_type": "code",
   "execution_count": 2,
   "metadata": {
    "colab": {},
    "colab_type": "code",
    "id": "l0i6W5V01jrj"
   },
   "outputs": [
    {
     "name": "stderr",
     "output_type": "stream",
     "text": [
      ".vector_cache/wiki.simple.vec: 293MB [03:23, 1.44MB/s]                               \n",
      "  0%|          | 0/111051 [00:00<?, ?it/s]Skipping token b'111051' with 1-dimensional vector [b'300']; likely a header\n",
      " 99%|█████████▉| 110378/111051 [00:11<00:00, 9684.19it/s]"
     ]
    }
   ],
   "source": [
    "embedding = FastText('simple')"
   ]
  },
  {
   "cell_type": "code",
   "execution_count": 19,
   "metadata": {},
   "outputs": [
    {
     "data": {
      "text/plain": [
       "<torchtext.vocab.FastText at 0x7f4cd75aa9d0>"
      ]
     },
     "execution_count": 19,
     "metadata": {},
     "output_type": "execute_result"
    }
   ],
   "source": [
    "embedding"
   ]
  },
  {
   "cell_type": "code",
   "execution_count": 3,
   "metadata": {
    "colab": {},
    "colab_type": "code",
    "id": "DXMDiId-1jru"
   },
   "outputs": [],
   "source": [
    "# embedding_charngram = CharNGram()"
   ]
  },
  {
   "cell_type": "code",
   "execution_count": 4,
   "metadata": {
    "colab": {},
    "colab_type": "code",
    "id": "L4FYvQAd1jrz",
    "outputId": "12e03003-c1cb-426f-a9ef-e625dd91bbb7"
   },
   "outputs": [
    {
     "data": {
      "text/html": [
       "<div>\n",
       "<style scoped>\n",
       "    .dataframe tbody tr th:only-of-type {\n",
       "        vertical-align: middle;\n",
       "    }\n",
       "\n",
       "    .dataframe tbody tr th {\n",
       "        vertical-align: top;\n",
       "    }\n",
       "\n",
       "    .dataframe thead th {\n",
       "        text-align: right;\n",
       "    }\n",
       "</style>\n",
       "<table border=\"1\" class=\"dataframe\">\n",
       "  <thead>\n",
       "    <tr style=\"text-align: right;\">\n",
       "      <th></th>\n",
       "      <th>text</th>\n",
       "      <th>label</th>\n",
       "    </tr>\n",
       "  </thead>\n",
       "  <tbody>\n",
       "    <tr>\n",
       "      <th>0</th>\n",
       "      <td>my name is Jack</td>\n",
       "      <td>Y</td>\n",
       "    </tr>\n",
       "    <tr>\n",
       "      <th>1</th>\n",
       "      <td>Hi I am Jack</td>\n",
       "      <td>Y</td>\n",
       "    </tr>\n",
       "    <tr>\n",
       "      <th>2</th>\n",
       "      <td>Hello There!</td>\n",
       "      <td>Y</td>\n",
       "    </tr>\n",
       "    <tr>\n",
       "      <th>3</th>\n",
       "      <td>Hi I am cooking</td>\n",
       "      <td>N</td>\n",
       "    </tr>\n",
       "    <tr>\n",
       "      <th>4</th>\n",
       "      <td>Hello are you there?</td>\n",
       "      <td>N</td>\n",
       "    </tr>\n",
       "    <tr>\n",
       "      <th>5</th>\n",
       "      <td>There is a bird there</td>\n",
       "      <td>N</td>\n",
       "    </tr>\n",
       "  </tbody>\n",
       "</table>\n",
       "</div>"
      ],
      "text/plain": [
       "                    text label\n",
       "0        my name is Jack     Y\n",
       "1           Hi I am Jack     Y\n",
       "2           Hello There!     Y\n",
       "3        Hi I am cooking     N\n",
       "4   Hello are you there?     N\n",
       "5  There is a bird there     N"
      ]
     },
     "execution_count": 4,
     "metadata": {},
     "output_type": "execute_result"
    }
   ],
   "source": [
    "df = pd.DataFrame([\n",
    "    ['my name is Jack', 'Y'],\n",
    "    ['Hi I am Jack', 'Y'],\n",
    "    ['Hello There!', 'Y'],\n",
    "    ['Hi I am cooking', 'N'],\n",
    "    ['Hello are you there?', 'N'],\n",
    "    ['There is a bird there', 'N'],\n",
    "], columns=['text', 'label'])\n",
    "df"
   ]
  },
  {
   "cell_type": "code",
   "execution_count": 5,
   "metadata": {
    "colab": {},
    "colab_type": "code",
    "id": "rdRxdT0-1jr6"
   },
   "outputs": [],
   "source": [
    "text_field = Field(\n",
    "    sequential=True,\n",
    "    tokenize='basic_english', \n",
    "    fix_length=5,\n",
    "    lower=True\n",
    ")\n",
    "\n",
    "label_field = Field(sequential=False, use_vocab=False)\n",
    "\n",
    "# sadly have to apply preprocess manually\n",
    "preprocessed_text = df['text'].apply(\n",
    "    lambda x: text_field.preprocess(x)\n",
    ")\n",
    "\n",
    "# load fastext simple embedding with 300d\n",
    "text_field.build_vocab(\n",
    "    preprocessed_text, \n",
    "    vectors='fasttext.simple.300d'\n",
    ")\n",
    "\n",
    "# get the vocab instance\n",
    "vocab = text_field.vocab"
   ]
  },
  {
   "cell_type": "code",
   "execution_count": 6,
   "metadata": {
    "colab": {},
    "colab_type": "code",
    "id": "s4RZOeef1jr-",
    "outputId": "15bf7c15-6947-40a0-835b-387738521ae1"
   },
   "outputs": [
    {
     "name": "stdout",
     "output_type": "stream",
     "text": [
      "12\n",
      "0\n"
     ]
    }
   ],
   "source": [
    "# known token, in my case print 12\n",
    "print(vocab['are'])\n",
    "# unknown token, will print 0\n",
    "print(vocab['crazy'])"
   ]
  },
  {
   "cell_type": "code",
   "execution_count": 7,
   "metadata": {
    "colab": {},
    "colab_type": "code",
    "id": "DRE-yHiP1jsD",
    "outputId": "666ab734-d0ed-4e65-830c-e0a5d84c2da8"
   },
   "outputs": [
    {
     "name": "stdout",
     "output_type": "stream",
     "text": [
      "['my name is Jack', 'Y']\n",
      "['Hi I am Jack', 'Y']\n",
      "['Hello There!', 'Y']\n",
      "['Hi I am cooking', 'N']\n",
      "['Hello are you there?', 'N']\n",
      "['There is a bird there', 'N']\n"
     ]
    }
   ],
   "source": [
    "for i, r in df.iterrows():    \n",
    "    print(list(r.values))"
   ]
  },
  {
   "cell_type": "code",
   "execution_count": 8,
   "metadata": {
    "colab": {},
    "colab_type": "code",
    "id": "RNUIDN0u1jsJ"
   },
   "outputs": [],
   "source": [
    "# we still have to manually handle conversion from categorical to int\n",
    "ltoi = {l: i for i, l in enumerate(df['label'].unique())}\n",
    "df['label'] = df['label'].apply(lambda y: ltoi[y])\n",
    "\n",
    "class DataFrameDataset(Dataset):\n",
    "    def __init__(self, df: pd.DataFrame, fields: list):\n",
    "        super(DataFrameDataset, self).__init__(\n",
    "            [\n",
    "                Example.fromlist(list(r), fields) \n",
    "                for i, r in df.iterrows()\n",
    "            ], \n",
    "            fields\n",
    "        )"
   ]
  },
  {
   "cell_type": "code",
   "execution_count": 9,
   "metadata": {},
   "outputs": [
    {
     "data": {
      "text/html": [
       "<div>\n",
       "<style scoped>\n",
       "    .dataframe tbody tr th:only-of-type {\n",
       "        vertical-align: middle;\n",
       "    }\n",
       "\n",
       "    .dataframe tbody tr th {\n",
       "        vertical-align: top;\n",
       "    }\n",
       "\n",
       "    .dataframe thead th {\n",
       "        text-align: right;\n",
       "    }\n",
       "</style>\n",
       "<table border=\"1\" class=\"dataframe\">\n",
       "  <thead>\n",
       "    <tr style=\"text-align: right;\">\n",
       "      <th></th>\n",
       "      <th>text</th>\n",
       "      <th>label</th>\n",
       "    </tr>\n",
       "  </thead>\n",
       "  <tbody>\n",
       "    <tr>\n",
       "      <th>0</th>\n",
       "      <td>my name is Jack</td>\n",
       "      <td>0</td>\n",
       "    </tr>\n",
       "    <tr>\n",
       "      <th>1</th>\n",
       "      <td>Hi I am Jack</td>\n",
       "      <td>0</td>\n",
       "    </tr>\n",
       "    <tr>\n",
       "      <th>2</th>\n",
       "      <td>Hello There!</td>\n",
       "      <td>0</td>\n",
       "    </tr>\n",
       "    <tr>\n",
       "      <th>3</th>\n",
       "      <td>Hi I am cooking</td>\n",
       "      <td>1</td>\n",
       "    </tr>\n",
       "    <tr>\n",
       "      <th>4</th>\n",
       "      <td>Hello are you there?</td>\n",
       "      <td>1</td>\n",
       "    </tr>\n",
       "    <tr>\n",
       "      <th>5</th>\n",
       "      <td>There is a bird there</td>\n",
       "      <td>1</td>\n",
       "    </tr>\n",
       "  </tbody>\n",
       "</table>\n",
       "</div>"
      ],
      "text/plain": [
       "                    text  label\n",
       "0        my name is Jack      0\n",
       "1           Hi I am Jack      0\n",
       "2           Hello There!      0\n",
       "3        Hi I am cooking      1\n",
       "4   Hello are you there?      1\n",
       "5  There is a bird there      1"
      ]
     },
     "execution_count": 9,
     "metadata": {},
     "output_type": "execute_result"
    }
   ],
   "source": [
    "df"
   ]
  },
  {
   "cell_type": "code",
   "execution_count": 10,
   "metadata": {
    "colab": {},
    "colab_type": "code",
    "id": "sqAPQrFR1jsP"
   },
   "outputs": [],
   "source": [
    "train_dataset, test_dataset = DataFrameDataset(\n",
    "    df=df, \n",
    "    fields=(\n",
    "        ('text', text_field),\n",
    "        ('label', label_field)\n",
    "    )\n",
    ").split()"
   ]
  },
  {
   "cell_type": "code",
   "execution_count": 11,
   "metadata": {
    "colab": {},
    "colab_type": "code",
    "id": "wr8dfkbu1jsU"
   },
   "outputs": [],
   "source": [
    "train_iter, test_iter = BucketIterator.splits(\n",
    "    datasets=(train_dataset, test_dataset), \n",
    "    batch_sizes=(2, 2),\n",
    "    sort=False\n",
    ")"
   ]
  },
  {
   "cell_type": "code",
   "execution_count": 12,
   "metadata": {
    "colab": {},
    "colab_type": "code",
    "id": "hUOQPlny1jsY"
   },
   "outputs": [],
   "source": [
    "class ModelParam(object):\n",
    "    def __init__(self, param_dict: dict = dict()):\n",
    "        self.input_size = param_dict.get('input_size', 0)\n",
    "        self.vocab_size = param_dict.get('vocab_size')\n",
    "        self.embedding_dim = param_dict.get('embedding_dim', 300)\n",
    "        self.target_dim = param_dict.get('target_dim', 2)\n",
    "        \n",
    "class MyModel(nn.Module):\n",
    "    def __init__(self, model_param: ModelParam):\n",
    "        super().__init__()\n",
    "        self.embedding = nn.Embedding(\n",
    "            model_param.vocab_size, \n",
    "            model_param.embedding_dim\n",
    "        )\n",
    "        self.lin = nn.Linear(\n",
    "            model_param.input_size * model_param.embedding_dim, \n",
    "            model_param.target_dim\n",
    "        )\n",
    "        \n",
    "    def forward(self, x):\n",
    "        features = self.embedding(x).view(x.size()[0], -1)\n",
    "        features = F.relu(features)\n",
    "        features = self.lin(features)\n",
    "        return features"
   ]
  },
  {
   "cell_type": "code",
   "execution_count": 13,
   "metadata": {
    "colab": {},
    "colab_type": "code",
    "id": "_PKVgZaQ1jsd"
   },
   "outputs": [],
   "source": [
    "class MyModelWithPretrainedEmbedding(nn.Module):\n",
    "    def __init__(self, model_param: ModelParam, embedding):\n",
    "        super().__init__()\n",
    "        self.embedding = embedding\n",
    "        self.lin = nn.Linear(\n",
    "            model_param.input_size * model_param.embedding_dim, \n",
    "            model_param.target_dim\n",
    "        )\n",
    "        \n",
    "    def forward(self, x):\n",
    "        features = self.embedding[x].reshape(x.size()[0], -1)\n",
    "        features = F.relu(features)\n",
    "        features = self.lin(features)\n",
    "        return features"
   ]
  },
  {
   "cell_type": "code",
   "execution_count": 14,
   "metadata": {
    "colab": {},
    "colab_type": "code",
    "id": "YizA5XcZ1jsk",
    "outputId": "02614639-f2ad-485f-9556-8f5549b22065"
   },
   "outputs": [
    {
     "name": "stdout",
     "output_type": "stream",
     "text": [
      "train loss on epoch 0 : 5.631\n",
      "test loss on epoch 0: 2.989\n",
      "train loss on epoch 1 : 1.668\n",
      "test loss on epoch 1: 0.352\n",
      "train loss on epoch 2 : 0.656\n",
      "test loss on epoch 2: 0.262\n",
      "train loss on epoch 3 : 0.522\n",
      "test loss on epoch 3: 0.194\n",
      "train loss on epoch 4 : 0.016\n",
      "test loss on epoch 4: 0.120\n"
     ]
    }
   ],
   "source": [
    "model_param = ModelParam(\n",
    "    param_dict=dict(\n",
    "        vocab_size=len(text_field.vocab),\n",
    "        input_size=5\n",
    "    )\n",
    ")\n",
    "model = MyModel(model_param)\n",
    "loss_function = nn.CrossEntropyLoss()\n",
    "optimizer = Adam(model.parameters(), lr=0.01)\n",
    "epochs = 5\n",
    "\n",
    "\n",
    "for epoch in range(epochs):\n",
    "    epoch_losses = list()\n",
    "    for batch in train_iter:\n",
    "        optimizer.zero_grad()\n",
    "\n",
    "        prediction = model(batch.text.T)\n",
    "        loss = loss_function(prediction, batch.label)\n",
    "\n",
    "        loss.backward()\n",
    "        optimizer.step()\n",
    "        \n",
    "        epoch_losses.append(loss.item())\n",
    "    print('train loss on epoch {} : {:.3f}'.format(epoch, np.mean(epoch_losses)))\n",
    "    \n",
    "    test_losses = list()\n",
    "    for batch in test_iter:\n",
    "        with torch.no_grad():\n",
    "            optimizer.zero_grad()\n",
    "            prediction = model(batch.text.T)\n",
    "            loss = loss_function(prediction, batch.label)\n",
    "            \n",
    "            test_losses.append(loss.item())\n",
    "    \n",
    "    print('test loss on epoch {}: {:.3f}'.format(epoch, np.mean(test_losses)))"
   ]
  },
  {
   "cell_type": "code",
   "execution_count": null,
   "metadata": {},
   "outputs": [],
   "source": []
  },
  {
   "cell_type": "code",
   "execution_count": null,
   "metadata": {},
   "outputs": [],
   "source": []
  }
 ],
 "metadata": {
  "colab": {
   "name": "dl-for-nlp-pytorch-torchtext.ipynb",
   "provenance": []
  },
  "kernelspec": {
   "display_name": "Python 3",
   "language": "python",
   "name": "python3"
  },
  "language_info": {
   "codemirror_mode": {
    "name": "ipython",
    "version": 3
   },
   "file_extension": ".py",
   "mimetype": "text/x-python",
   "name": "python",
   "nbconvert_exporter": "python",
   "pygments_lexer": "ipython3",
   "version": "3.7.6"
  }
 },
 "nbformat": 4,
 "nbformat_minor": 1
}
