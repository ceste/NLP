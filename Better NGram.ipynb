{
 "cells": [
  {
   "cell_type": "code",
   "execution_count": 7,
   "id": "3664a0d5",
   "metadata": {
    "ExecuteTime": {
     "end_time": "2022-01-08T02:01:57.998041Z",
     "start_time": "2022-01-08T02:01:57.678713Z"
    }
   },
   "outputs": [],
   "source": [
    "import spacy\n",
    "sp = spacy.load('en_core_web_sm')"
   ]
  },
  {
   "cell_type": "code",
   "execution_count": 8,
   "id": "79f6f8e2",
   "metadata": {
    "ExecuteTime": {
     "end_time": "2022-01-08T02:01:58.036203Z",
     "start_time": "2022-01-08T02:01:58.027694Z"
    }
   },
   "outputs": [],
   "source": [
    "sentence = sp(u'Manchester United is looking to sign Harry Kane for $90 million')  "
   ]
  },
  {
   "cell_type": "code",
   "execution_count": 15,
   "id": "09e28c4a",
   "metadata": {
    "ExecuteTime": {
     "end_time": "2022-01-08T02:04:05.502296Z",
     "start_time": "2022-01-08T02:04:05.487822Z"
    }
   },
   "outputs": [
    {
     "name": "stdout",
     "output_type": "stream",
     "text": [
      "Manchester\n",
      "United\n",
      "is\n",
      "looking\n",
      "to\n",
      "sign\n",
      "Harry\n",
      "Kane\n",
      "for\n",
      "$\n",
      "90\n",
      "million\n"
     ]
    }
   ],
   "source": [
    "words = []\n",
    "for word in sentence:\n",
    "    words.append(word)\n",
    "    print(word.text)"
   ]
  },
  {
   "cell_type": "code",
   "execution_count": 13,
   "id": "6c947ffe",
   "metadata": {
    "ExecuteTime": {
     "end_time": "2022-01-08T02:03:17.557420Z",
     "start_time": "2022-01-08T02:03:17.554187Z"
    }
   },
   "outputs": [
    {
     "name": "stdout",
     "output_type": "stream",
     "text": [
      "Manchester United - GPE - Countries, cities, states\n",
      "Harry Kane - PERSON - People, including fictional\n",
      "$90 million - MONEY - Monetary values, including unit\n"
     ]
    }
   ],
   "source": [
    "entities = []\n",
    "for entity in sentence.ents:\n",
    "    sub = entity.text + ' - ' + entity.label_ + ' - ' + str(spacy.explain(entity.label_))\n",
    "    print(sub)\n",
    "    entities.append(sub)"
   ]
  },
  {
   "cell_type": "code",
   "execution_count": 54,
   "id": "ae50ac2f",
   "metadata": {
    "ExecuteTime": {
     "end_time": "2022-01-08T02:33:39.802095Z",
     "start_time": "2022-01-08T02:33:39.795721Z"
    }
   },
   "outputs": [
    {
     "name": "stdout",
     "output_type": "stream",
     "text": [
      "Manchester United\n",
      "Harry Kane\n",
      "Manchester United - GPE - Countries, cities, states\n",
      "Harry Kane - PERSON - People, including fictional\n",
      "$90 million - MONEY - Monetary values, including unit\n"
     ]
    }
   ],
   "source": [
    "cols = []\n",
    "\n",
    "for noun in sentence.noun_chunks:    \n",
    "    cols.append(noun.text)\n",
    "    print(noun.text)\n",
    "    \n",
    "for entity in sentence.ents:\n",
    "    sub = entity.text + ' - ' + entity.label_ + ' - ' + str(spacy.explain(entity.label_))\n",
    "    print(sub)\n",
    "    entities.append(sub)\n",
    "    cols.append(entity.text)"
   ]
  },
  {
   "cell_type": "code",
   "execution_count": 58,
   "id": "a7970f10",
   "metadata": {
    "ExecuteTime": {
     "end_time": "2022-01-08T02:34:01.685980Z",
     "start_time": "2022-01-08T02:34:01.672459Z"
    }
   },
   "outputs": [
    {
     "data": {
      "text/plain": [
       "['Manchester United', 'Harry Kane', '$90 million']"
      ]
     },
     "execution_count": 58,
     "metadata": {},
     "output_type": "execute_result"
    }
   ],
   "source": [
    "cols = list(set(cols))\n",
    "cols"
   ]
  },
  {
   "cell_type": "code",
   "execution_count": 59,
   "id": "34772c56",
   "metadata": {
    "ExecuteTime": {
     "end_time": "2022-01-08T02:34:17.442155Z",
     "start_time": "2022-01-08T02:34:17.434149Z"
    }
   },
   "outputs": [
    {
     "data": {
      "text/plain": [
       "['Manchester United',\n",
       " 'Manchester United',\n",
       " 'is',\n",
       " 'looking',\n",
       " 'to',\n",
       " 'sign',\n",
       " 'Harry Kane',\n",
       " 'Harry Kane',\n",
       " 'for',\n",
       " '$90 million',\n",
       " '$90 million',\n",
       " '$90 million']"
      ]
     },
     "execution_count": 59,
     "metadata": {},
     "output_type": "execute_result"
    }
   ],
   "source": [
    "output = []\n",
    "for word in words:\n",
    "    x = None\n",
    "    for col in cols:\n",
    "        if str(word) in str(col):\n",
    "            x = str(col)\n",
    "    if x is None:\n",
    "        x = str(word)        \n",
    "    output.append(x)\n",
    "output"
   ]
  },
  {
   "cell_type": "code",
   "execution_count": 60,
   "id": "d311e16d",
   "metadata": {
    "ExecuteTime": {
     "end_time": "2022-01-08T02:34:19.978931Z",
     "start_time": "2022-01-08T02:34:19.973953Z"
    }
   },
   "outputs": [],
   "source": [
    "n_grams = []\n",
    "for index, word in enumerate(output):          \n",
    "    if index==0 and len(n_grams)==0:\n",
    "        n_grams.append(word)\n",
    "    else:\n",
    "        if word==n_grams[-1]:\n",
    "            pass\n",
    "        else:\n",
    "            n_grams.append(word)\n"
   ]
  },
  {
   "cell_type": "code",
   "execution_count": 61,
   "id": "da5a58ef",
   "metadata": {
    "ExecuteTime": {
     "end_time": "2022-01-08T02:34:20.193369Z",
     "start_time": "2022-01-08T02:34:20.183378Z"
    }
   },
   "outputs": [
    {
     "data": {
      "text/plain": [
       "['Manchester United',\n",
       " 'is',\n",
       " 'looking',\n",
       " 'to',\n",
       " 'sign',\n",
       " 'Harry Kane',\n",
       " 'for',\n",
       " '$90 million']"
      ]
     },
     "execution_count": 61,
     "metadata": {},
     "output_type": "execute_result"
    }
   ],
   "source": [
    "n_grams"
   ]
  },
  {
   "cell_type": "code",
   "execution_count": null,
   "id": "061034bd",
   "metadata": {},
   "outputs": [],
   "source": []
  }
 ],
 "metadata": {
  "kernelspec": {
   "display_name": "Python 3 (ipykernel)",
   "language": "python",
   "name": "python3"
  },
  "language_info": {
   "codemirror_mode": {
    "name": "ipython",
    "version": 3
   },
   "file_extension": ".py",
   "mimetype": "text/x-python",
   "name": "python",
   "nbconvert_exporter": "python",
   "pygments_lexer": "ipython3",
   "version": "3.8.3"
  },
  "toc": {
   "base_numbering": 1,
   "nav_menu": {},
   "number_sections": true,
   "sideBar": true,
   "skip_h1_title": false,
   "title_cell": "Table of Contents",
   "title_sidebar": "Contents",
   "toc_cell": false,
   "toc_position": {},
   "toc_section_display": true,
   "toc_window_display": false
  },
  "varInspector": {
   "cols": {
    "lenName": 16,
    "lenType": 16,
    "lenVar": 40
   },
   "kernels_config": {
    "python": {
     "delete_cmd_postfix": "",
     "delete_cmd_prefix": "del ",
     "library": "var_list.py",
     "varRefreshCmd": "print(var_dic_list())"
    },
    "r": {
     "delete_cmd_postfix": ") ",
     "delete_cmd_prefix": "rm(",
     "library": "var_list.r",
     "varRefreshCmd": "cat(var_dic_list()) "
    }
   },
   "types_to_exclude": [
    "module",
    "function",
    "builtin_function_or_method",
    "instance",
    "_Feature"
   ],
   "window_display": false
  }
 },
 "nbformat": 4,
 "nbformat_minor": 5
}
