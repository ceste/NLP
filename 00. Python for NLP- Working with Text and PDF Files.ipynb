{
 "cells": [
  {
   "cell_type": "code",
   "execution_count": 12,
   "id": "42d17d55",
   "metadata": {
    "ExecuteTime": {
     "end_time": "2022-01-08T01:26:01.539567Z",
     "start_time": "2022-01-08T01:26:01.536492Z"
    }
   },
   "outputs": [],
   "source": [
    "myfile = open(\"data/myfile.txt\")"
   ]
  },
  {
   "cell_type": "code",
   "execution_count": 13,
   "id": "0b1c7cce",
   "metadata": {
    "ExecuteTime": {
     "end_time": "2022-01-08T01:26:01.701169Z",
     "start_time": "2022-01-08T01:26:01.697930Z"
    }
   },
   "outputs": [
    {
     "data": {
      "text/plain": [
       "<_io.TextIOWrapper name='data/myfile.txt' mode='r' encoding='UTF-8'>"
      ]
     },
     "execution_count": 13,
     "metadata": {},
     "output_type": "execute_result"
    }
   ],
   "source": [
    "myfile"
   ]
  },
  {
   "cell_type": "code",
   "execution_count": 14,
   "id": "23843cd7",
   "metadata": {
    "ExecuteTime": {
     "end_time": "2022-01-08T01:26:01.927036Z",
     "start_time": "2022-01-08T01:26:01.918913Z"
    }
   },
   "outputs": [
    {
     "name": "stdout",
     "output_type": "stream",
     "text": [
      "Welcome to Natural Language Processing\n",
      "It is one of the most exciting research areas as of today\n",
      "We will see how Python can be used to work with text files.\n",
      "\n"
     ]
    }
   ],
   "source": [
    "print(myfile.read())"
   ]
  },
  {
   "cell_type": "code",
   "execution_count": 15,
   "id": "0fca04aa",
   "metadata": {
    "ExecuteTime": {
     "end_time": "2022-01-08T01:26:03.383750Z",
     "start_time": "2022-01-08T01:26:03.375547Z"
    }
   },
   "outputs": [
    {
     "name": "stdout",
     "output_type": "stream",
     "text": [
      "Welcome to Natural Language Processing\n",
      "It is one of the most exciting research areas as of today\n",
      "We will see how Python can be used to work with text files.\n",
      "\n"
     ]
    }
   ],
   "source": [
    "myfile.seek(0)\n",
    "print(myfile.read())"
   ]
  },
  {
   "cell_type": "code",
   "execution_count": 16,
   "id": "60c6a64a",
   "metadata": {
    "ExecuteTime": {
     "end_time": "2022-01-08T01:26:14.796306Z",
     "start_time": "2022-01-08T01:26:14.790789Z"
    }
   },
   "outputs": [],
   "source": [
    "myfile.close()"
   ]
  },
  {
   "cell_type": "code",
   "execution_count": 17,
   "id": "4cc0bbc5",
   "metadata": {
    "ExecuteTime": {
     "end_time": "2022-01-08T01:26:30.863372Z",
     "start_time": "2022-01-08T01:26:30.855083Z"
    }
   },
   "outputs": [
    {
     "name": "stdout",
     "output_type": "stream",
     "text": [
      "['Welcome to Natural Language Processing\\n', 'It is one of the most exciting research areas as of today\\n', 'We will see how Python can be used to work with text files.\\n']\n"
     ]
    }
   ],
   "source": [
    "myfile = open(\"data/myfile.txt\")\n",
    "print(myfile.readlines())"
   ]
  },
  {
   "cell_type": "code",
   "execution_count": 20,
   "id": "00198cb9",
   "metadata": {
    "ExecuteTime": {
     "end_time": "2022-01-08T01:27:29.138366Z",
     "start_time": "2022-01-08T01:27:29.122881Z"
    }
   },
   "outputs": [
    {
     "name": "stdout",
     "output_type": "stream",
     "text": [
      "Welcome to Natural Language Processing\n",
      "\n",
      "Welcome\n",
      "-------------------------------\n",
      "It is one of the most exciting research areas as of today\n",
      "\n",
      "It\n",
      "-------------------------------\n",
      "We will see how Python can be used to work with text files.\n",
      "\n",
      "We\n",
      "-------------------------------\n"
     ]
    }
   ],
   "source": [
    "myfile = open(\"data/myfile.txt\")\n",
    "for lines in myfile:\n",
    "    print(lines)\n",
    "    print(lines.split()[0])\n",
    "    print('-------------------------------')"
   ]
  },
  {
   "cell_type": "code",
   "execution_count": 21,
   "id": "5d4efcb7",
   "metadata": {
    "ExecuteTime": {
     "end_time": "2022-01-08T01:28:25.822786Z",
     "start_time": "2022-01-08T01:28:25.811645Z"
    }
   },
   "outputs": [
    {
     "name": "stdout",
     "output_type": "stream",
     "text": [
      "\n",
      "The file has been rewritten\n"
     ]
    }
   ],
   "source": [
    "myfile = open(\"data/myfile.txt\", 'w+')\n",
    "print(myfile.read())\n",
    "myfile.write(\"The file has been rewritten\")\n",
    "myfile.seek(0)\n",
    "print(myfile.read())"
   ]
  },
  {
   "cell_type": "code",
   "execution_count": 22,
   "id": "b14143a8",
   "metadata": {
    "ExecuteTime": {
     "end_time": "2022-01-08T01:28:48.657133Z",
     "start_time": "2022-01-08T01:28:48.647866Z"
    }
   },
   "outputs": [
    {
     "name": "stdout",
     "output_type": "stream",
     "text": [
      "Welcome to Natural Language Processing\n",
      "It is one of the most exciting research areas as of today\n",
      "We will see how Python can be used to work with text files.\n",
      "\n"
     ]
    }
   ],
   "source": [
    "myfile = open(\"data/myfile.txt\", 'a+')\n",
    "myfile.seek(0)\n",
    "print(myfile.read())"
   ]
  },
  {
   "cell_type": "code",
   "execution_count": 23,
   "id": "3d35364e",
   "metadata": {
    "ExecuteTime": {
     "end_time": "2022-01-08T01:28:58.447313Z",
     "start_time": "2022-01-08T01:28:58.440688Z"
    }
   },
   "outputs": [
    {
     "data": {
      "text/plain": [
       "19"
      ]
     },
     "execution_count": 23,
     "metadata": {},
     "output_type": "execute_result"
    }
   ],
   "source": [
    "myfile.write(\"\\nThis is a new line\")"
   ]
  },
  {
   "cell_type": "code",
   "execution_count": 24,
   "id": "c466c0a7",
   "metadata": {
    "ExecuteTime": {
     "end_time": "2022-01-08T01:29:07.762626Z",
     "start_time": "2022-01-08T01:29:07.758309Z"
    }
   },
   "outputs": [
    {
     "name": "stdout",
     "output_type": "stream",
     "text": [
      "Welcome to Natural Language Processing\n",
      "It is one of the most exciting research areas as of today\n",
      "We will see how Python can be used to work with text files.\n",
      "\n",
      "This is a new line\n"
     ]
    }
   ],
   "source": [
    "myfile.seek(0)\n",
    "print(myfile.read())"
   ]
  },
  {
   "cell_type": "code",
   "execution_count": 25,
   "id": "c674ab42",
   "metadata": {
    "ExecuteTime": {
     "end_time": "2022-01-08T01:29:35.965283Z",
     "start_time": "2022-01-08T01:29:35.961810Z"
    }
   },
   "outputs": [
    {
     "name": "stdout",
     "output_type": "stream",
     "text": [
      "Welcome to Natural Language Processing\n",
      "It is one of the most exciting research areas as of today\n",
      "We will see how Python can be used to work with text files.\n",
      "\n",
      "This is a new line\n"
     ]
    }
   ],
   "source": [
    "with open(\"data/myfile.txt\") as myfile:\n",
    "    print(myfile.read())"
   ]
  },
  {
   "cell_type": "code",
   "execution_count": 54,
   "id": "9e842027",
   "metadata": {
    "ExecuteTime": {
     "end_time": "2022-01-08T01:37:25.073588Z",
     "start_time": "2022-01-08T01:37:25.069553Z"
    }
   },
   "outputs": [],
   "source": [
    "import PyPDF2\n",
    "\n",
    "\n",
    "filename='data/subagreement.pdf'\n",
    "mypdf = open(filename, mode='rb')"
   ]
  },
  {
   "cell_type": "code",
   "execution_count": 55,
   "id": "dabb5e7e",
   "metadata": {
    "ExecuteTime": {
     "end_time": "2022-01-08T01:37:25.437979Z",
     "start_time": "2022-01-08T01:37:25.426318Z"
    }
   },
   "outputs": [],
   "source": [
    "pdf_document = PyPDF2.PdfFileReader(mypdf)"
   ]
  },
  {
   "cell_type": "code",
   "execution_count": 56,
   "id": "44eabaa6",
   "metadata": {
    "ExecuteTime": {
     "end_time": "2022-01-08T01:37:25.702938Z",
     "start_time": "2022-01-08T01:37:25.688700Z"
    }
   },
   "outputs": [
    {
     "data": {
      "text/plain": [
       "5"
      ]
     },
     "execution_count": 56,
     "metadata": {},
     "output_type": "execute_result"
    }
   ],
   "source": [
    "pdf_document.numPages"
   ]
  },
  {
   "cell_type": "code",
   "execution_count": 57,
   "id": "c909203b",
   "metadata": {
    "ExecuteTime": {
     "end_time": "2022-01-08T01:37:26.048049Z",
     "start_time": "2022-01-08T01:37:25.930664Z"
    }
   },
   "outputs": [
    {
     "name": "stdout",
     "output_type": "stream",
     "text": [
      "           \n",
      "UTP Plan Subscriber Agreement 2019\n",
      "-\n",
      "1\n",
      " \n",
      " \n",
      " \n",
      "2\n",
      " \n",
      "TERMS AND CO\n",
      "N\n",
      "DITIONS\n",
      " \n",
      "The \n",
      "Vendor\n",
      " \n",
      "and its agents may not m\n",
      "odify or waive any term of this \n",
      "Agreement.\n",
      " \n",
      "Any attempt to modify this Agreement, except \n",
      "by \n",
      "Nasdaq\n",
      ", is void.\n",
      " \n",
      " \n",
      "1.\n",
      " \n",
      "USE OF DATA.\n",
      " \n",
      "Subscriber may not sell, lease, furnish or otherwise permit or provide access to the Information to any other Person \n",
      "or to any other office or place. \n",
      "Subscriber will not engage in the operation of any illegal business use or permit anyone else to use \n",
      "the Information, or any part thereof, for any illegal purpose or violate any \n",
      "Nasdaq\n",
      " \n",
      "\n",
      "Rule or other applicable \n",
      "law, rule or regulation. \n",
      "Subscriber may not present the Information rendered in any unfair, misleading or \n",
      "discriminatory format. Subscriber shall take reasonable security precautions to prevent unauthorized Persons from gaining acc\n",
      "ess \n",
      "to the Information. \n",
      " \n",
      "a.\n",
      " \n",
      "NON\n",
      "-\n",
      "PROFESSIONAL SUBSCRIBER \n",
      "\n",
      " \n",
      "For Non\n",
      "-\n",
      "Professional Subscriber\n",
      "s\n",
      ", the Information is licensed only for personal \n",
      "use.\n",
      " \n",
      "By representing to \n",
      "Vendor\n",
      " \n",
      "that Subscriber is a Non\n",
      "-\n",
      "Professional Subscriber, or by continuing to receive the \n",
      "Information at a Non\n",
      "-\n",
      "Professional Subscriber rate, Subscriber is affirming to \n",
      "Vendor\n",
      " \n",
      "and to \n",
      "Nasdaq\n",
      " \n",
      "that Subscriber meets \n",
      "the definition of Non\n",
      "-\n",
      "Professional Subscriber as set\n",
      " \n",
      "forth in \n",
      "Section \n",
      "1\n",
      "6\n",
      " \n",
      "of this Agreement. A Non\n",
      "-\n",
      "Professional Subscriber \n",
      "shall comply promptly with any reasonable request from \n",
      "Nasdaq\n",
      " \n",
      "for information regarding the Non\n",
      "-\n",
      "Professional \n",
      "\n",
      "on.\n",
      " \n",
      "b. \n",
      "PROFESSIONAL SUBSCRIBER \n",
      "\n",
      " \n",
      "For Professional Subscriber\n",
      "s\n",
      ", the Information is licensed for the internal business use \n",
      "and/or personal use of the Professional Subscriber. Professional Subscribers may, on a non\n",
      "-\n",
      "continuous basis, furnish \n",
      "limited amounts of the Information to customers in written advertisements, corr\n",
      "espondence or other literature or during \n",
      "voice telephonic conversations not entailing computerized voice, automated information inquiry systems or similar \n",
      "technologies. Upon request, Professional Subscribers shall make its premises available to \n",
      "Nasdaq\n",
      " \n",
      "for \n",
      "physical inspection \n",
      "of \n",
      "Vendor\n",
      "'s Service and of Professional Subscriber's use of the Information (including review of any records regarding use \n",
      "of or access to the Information and the number and locations of all devices that receive Information), all at rea\n",
      "sonable \n",
      "times, upon reasonable notice, to ensure compliance with this Agreement. \n",
      " \n",
      "2.\n",
      " \n",
      "PROPRIETARY DATA.\n",
      " \n",
      "Nasdaq\n",
      " \n",
      "grants to Subscriber a nonexclusive, non\n",
      "-\n",
      "transferable license during the term of the Agreement to \n",
      "receive and use the Information transmitted to it by \n",
      "Vendor\n",
      " \n",
      "and thereafter to use such Information as permitted under the terms \n",
      "of this Agreement and/or the \n",
      "U\n",
      "TP Plan Requirements\n",
      ". Subscriber acknowledges and agrees that \n",
      "Nasdaq\n",
      " \n",
      "has proprietary rights \n",
      "to\n",
      " \n",
      "the Information that originates on or derives from markets regulated \n",
      "or operated by \n",
      "Nasdaq\n",
      ", and compilation or other rights\n",
      " \n",
      "to\n",
      " \n",
      "Information gathered from other so\n",
      "urces. Subscriber further acknowledges and agrees that \n",
      "Nasdaq\n",
      "'s third\n",
      "-\n",
      "party information \n",
      "providers have exclusive proprietary rights \n",
      "to\n",
      " \n",
      "their respective Information. In the event of any misappropriation or misuse by \n",
      "Subscriber or anyone who accesses the Inf\n",
      "ormation through Subscriber, \n",
      "Nasdaq\n",
      " \n",
      "or its third\n",
      "-\n",
      "party information providers shall have \n",
      "the right to obtain injunctive relief for its respective materials. Subscriber will attribute source as appropriate under all\n",
      " \n",
      "the \n",
      "circumstances. \n",
      " \n",
      "3\n",
      ".\n",
      " \n",
      "PAYMENT.\n",
      " \n",
      "Subscriber shall assume full and complete responsibility for the payment of any taxes, charges or assessments imposed \n",
      "on Subscriber or \n",
      "Nasdaq\n",
      " \n",
      "(except for federal, state or local income taxes, if any, imposed on \n",
      "Nasdaq\n",
      ") by any foreign or domestic \n",
      "national, \n",
      "state, provincial or local governmental bodies, or subdivisions thereof, and any penalties or interest relating to the \n",
      "provision of the Information to Subscriber. Interest shall be due from the date of the invoice to the time that the amount(s)\n",
      " \n",
      "that are \n",
      "du\n",
      "e have been paid. To the extent permitted by applicable law, Subscriber acknowledges and agrees that the termination of the \n",
      "Vendor\n",
      "'s Service for failure to make payments shall not be considered an improper limitation of access by \n",
      "Nasdaq\n",
      ". For Professional \n",
      "S\n",
      "ubscribers, if any payment is due directly to \n",
      "Nasdaq\n",
      " \n",
      "under this Agreement, payment in full is due \n",
      "Nasdaq\n",
      " \n",
      "in\n",
      " \n",
      "immediately available \n",
      "funds, in \n",
      "US Dollars\n",
      " \n",
      "by a check to \n",
      "Nasdaq\n",
      ", by electronic funds transfer to an institution of \n",
      "Nasdaq\n",
      "\n",
      " \n",
      "within \n",
      "fifteen \n",
      "(\n",
      "15\n",
      ") \n",
      "days of the date of an invoice, whether or not use is made of, or access is made to, the Information.\n",
      " \n",
      " \n",
      "4\n",
      ".\n",
      " \n",
      "SYSTEM.\n",
      " \n",
      "Subscriber acknowledges that \n",
      "Nasdaq\n",
      ", in its sole discretion, may from time\n",
      "-\n",
      "to\n",
      "-\n",
      "time make modifications to its system or \n",
      "the Inform\n",
      "ation. Such modifications may require corresponding changes to be made in \n",
      "Vendor\n",
      "'s Service. Changes or the failure to \n",
      "make timely changes by \n",
      "Vendor\n",
      " \n",
      "or Subscriber may sever or affect Subscriber's access to or use of the Information. \n",
      "Nasdaq\n",
      " \n",
      "shall not \n",
      "be responsible for such effects. \n",
      "Nasdaq\n",
      " \n",
      "does not endorse or approve any equipment, \n",
      "Vendor\n",
      " \n",
      "or \n",
      "Vendor\n",
      "'s Service. \n",
      " \n",
      "5\n",
      ".\n",
      " \n",
      "EXCLUSIVE REMEDY.\n",
      " \n",
      "Nasdaq\n",
      " \n",
      "shall endeavor to offer the Information as promptly and accurately as is reasonably practicable. In \n",
      "the ev\n",
      "ent that the Information is not available as a result of failure by \n",
      "Nasdaq\n",
      " \n",
      "to perform its obligations under this Agreement, \n",
      "Nasdaq\n",
      " \n",
      "will endeavor to correct any such failure. If the Information is not available, is delayed, is interrupted, is incomplete, is\n",
      " \n",
      "not \n",
      "accurate or is otherwise materially affected for a continuous period of four (4) hours or more during the time that \n",
      "Nasdaq\n",
      " \n",
      "regularly \n",
      "transmits the Information due to the fault of \n",
      "Nasdaq\n",
      " \n",
      "(except for a reason permitted in this Agreement or in \n",
      "Nasdaq\n",
      "\n",
      "with the \n",
      "Vendor\n",
      "\n",
      " \n",
      "other P\n",
      "\n",
      "Nasdaq\n",
      " \n",
      "shall be: \n",
      " \n",
      "a.\n",
      " \n",
      "If Subscriber or any other P\n",
      "erson continues to receive the Information or any other data and/or information offered by \n",
      "\n"
     ]
    }
   ],
   "source": [
    "first_page = pdf_document.getPage(0)\n",
    "\n",
    "print(first_page.extractText())"
   ]
  },
  {
   "cell_type": "code",
   "execution_count": 58,
   "id": "f1158038",
   "metadata": {
    "ExecuteTime": {
     "end_time": "2022-01-08T01:37:27.868127Z",
     "start_time": "2022-01-08T01:37:27.827714Z"
    }
   },
   "outputs": [
    {
     "name": "stdout",
     "output_type": "stream",
     "text": [
      "           \n",
      "UTP Plan Subscriber Agreement 2019\n",
      "-\n",
      "1\n",
      " \n",
      " \n",
      " \n",
      "6\n",
      " \n",
      "damage), and (b) administrative costs, invest\n",
      "igatory costs, litigation costs\n",
      " \n",
      "and auditors' and attorneys' fees and disbursements \n",
      "(including in\n",
      "-\n",
      "house personnel).\n",
      " \n",
      " \n",
      "Information\n",
      " \n",
      "shall mean \n",
      "certain market data a\n",
      "nd other data \n",
      "disseminated \n",
      "that has been collected, validated, processed, and \n",
      "recorded by the System or other sources made available for transmission to and receipt from either a \n",
      "Vendor\n",
      " \n",
      "or from \n",
      "Nasdaq\n",
      " \n",
      "relating to: a) eligible securities or other financial instruments, markets, products, vehicles, indicators, or devices; b) a\n",
      "ctivities of a \n",
      "Nasdaq\n",
      " \n",
      "Company; c) other information and data from a \n",
      "Nasdaq\n",
      " \n",
      "Company.\n",
      " \n",
      "Information also includes any element of Infor\n",
      "mation as \n",
      "used or processed in such a way that the Information can be identified, recalculated or re\n",
      "-\n",
      "engineered from the processed \n",
      "Information or that the processed Information can be used as a substitute for Information.\n",
      " \n",
      "Nasdaq\n",
      " \n",
      "shall collectively mean The\n",
      " \n",
      "Nasdaq Stock Market LLC\n",
      ", a Delaware limited liability company and its subsidiaries and \n",
      "A\n",
      "ffiliates \n",
      "\n",
      "Nasdaq\n",
      "\n",
      " \n",
      " \n",
      "UTP\n",
      " \n",
      "Plan \n",
      "Requirements\n",
      " \n",
      "\n",
      " \n",
      "All (i) rules, regulations, interpretations, decisions, opinions, orders and other requirements of the SEC; \n",
      "(ii) the rules and regulations, disciplinary decision and rule interpretations applicable to \n",
      "UTP\n",
      " \n",
      "(iii) the decisions, policies, \n",
      "interpretations, ope\n",
      "rating procedures, specifications, requirements, and other documentation \n",
      "by Nasdaq, as \n",
      "A\n",
      "dministrator of the \n",
      "UTP\n",
      " \n",
      "Plan\n",
      ", \n",
      "that is regulatory or technical in nature (including, but not limited to, user guides) published on the \n",
      "UTP Plan \n",
      "website \n",
      "located at\n",
      " \n",
      "www.utpplan.com\n",
      " \n",
      "or another website accessible by and made known to \n",
      "Vendor\n",
      "; and (iv) all other applicable laws, \n",
      "statutes, rules, regulations, orders, decisions, interpretations, opinions, and other requirements, whether \n",
      "promulgated by the \n",
      "United States or any other applicable jurisdiction (including in the area of intellectual property); and (v) the successors, \n",
      "as they may \n",
      "exist at the time, of the components of the \n",
      "UTP\n",
      " \n",
      "Plan \n",
      "Requirements.\n",
      " \n",
      "O\n",
      "r\n",
      " \n",
      "\n",
      " \n",
      "Includes the word \"and\n",
      ".\n",
      "\"\n",
      " \n",
      " \n",
      "Person\n",
      " \n",
      "\n",
      " \n",
      "Any natural person, proprietorship, corporation, partnership or other entity whatsoever. \n",
      " \n",
      "Subscriber \n",
      "\n",
      " \n",
      "When it appears alone, the word \"Subscriber\" encompasses all Non\n",
      "-\n",
      "Professional\n",
      " \n",
      "and\n",
      " \n",
      "Professional Subscribers.\n",
      " \n",
      "All \n",
      "S\n",
      "ubscribers are deemed Professio\n",
      "nal unless they \n",
      "are qualified\n",
      " \n",
      "as Non\n",
      "-\n",
      "Professional.\n",
      " \n",
      " \n",
      "\n",
      " \n",
      "Non\n",
      "-\n",
      "Professional Subscriber \n",
      "\n",
      " \n",
      "Any natural person who is \n",
      "NOT\n",
      ": \n",
      " \n",
      "a)\n",
      " \n",
      "registered or qualified in any capacity with the SEC, the Commodities Futures Trading Commission, any state securities \n",
      "agency, any securities exchange or association or any commodities or futures contract market or association; \n",
      " \n",
      "b)\n",
      " \n",
      "engaged as an \"investment a\n",
      "dvise\n",
      "r\" as that term is defined in \n",
      "Section 202\n",
      "(a)(11) of the Investment Advise\n",
      "rs Act of \n",
      "1940\n",
      " \n",
      "(whether or not registered or qualified under that Act); or \n",
      " \n",
      "c)\n",
      " \n",
      "employed by a bank or other organization exemp\n",
      "t from registration under federal or state securities laws to perform \n",
      "functions that would require registration or qualification if such functions were performed for an organization not so \n",
      "exempt. \n",
      " \n",
      " \n",
      "\n",
      " \n",
      "Professional Subscriber\n",
      " \n",
      "\n",
      " \n",
      "All other persons who do \n",
      "not\n",
      " \n",
      "meet the definition of Non\n",
      "-\n",
      "Professional Subscriber. \n",
      " \n",
      " \n",
      "System\n",
      " \n",
      "shall mean any system \n",
      "Nasdaq\n",
      " \n",
      "has developed for the creation and/or dissemination of Information.\n",
      " \n",
      "Vendor\n",
      " \n",
      "shall mean Vendor and its Affiliates as identified in writing to Nasdaq.\n",
      " \n",
      " \n",
      "Vendor's Service\n",
      " \n",
      "\n",
      " \n",
      "The service from a Vendor, including the data processing equipment, software and communications facilities \n",
      "related thereto, for receiving, processing, transmitting, using and disseminating the Information to or by Subscriber. \n",
      " \n",
      "\n"
     ]
    }
   ],
   "source": [
    "page = pdf_document.getPage(4)\n",
    "\n",
    "print(page.extractText())"
   ]
  },
  {
   "cell_type": "code",
   "execution_count": 59,
   "id": "0ddff3d9",
   "metadata": {
    "ExecuteTime": {
     "end_time": "2022-01-08T01:37:28.991197Z",
     "start_time": "2022-01-08T01:37:28.975813Z"
    }
   },
   "outputs": [],
   "source": [
    "page_one = pdf_document.getPage(0)\n",
    "\n",
    "pdf_document_writer = PyPDF2.PdfFileWriter()\n",
    "pdf_document_writer.addPage(page_one)\n",
    "pdf_output_file = open('data/testing.pdf', 'wb')\n",
    "pdf_document_writer.write(pdf_output_file)"
   ]
  },
  {
   "cell_type": "code",
   "execution_count": 61,
   "id": "e69b7a97",
   "metadata": {
    "ExecuteTime": {
     "end_time": "2022-01-08T01:37:34.401093Z",
     "start_time": "2022-01-08T01:37:34.344498Z"
    }
   },
   "outputs": [
    {
     "name": "stdout",
     "output_type": "stream",
     "text": [
      "           \n",
      "UTP Plan Subscriber Agreement 2019\n",
      "-\n",
      "1\n",
      " \n",
      " \n",
      " \n",
      "2\n",
      " \n",
      "TERMS AND CO\n",
      "N\n",
      "DITIONS\n",
      " \n",
      "The \n",
      "Vendor\n",
      " \n",
      "and its agents may not m\n",
      "odify or waive any term of this \n",
      "Agreement.\n",
      " \n",
      "Any attempt to modify this Agreement, except \n",
      "by \n",
      "Nasdaq\n",
      ", is void.\n",
      " \n",
      " \n",
      "1.\n",
      " \n",
      "USE OF DATA.\n",
      " \n",
      "Subscriber may not sell, lease, furnish or otherwise permit or provide access to the Information to any other Person \n",
      "or to any other office or place. \n",
      "Subscriber will not engage in the operation of any illegal business use or permit anyone else to use \n",
      "the Information, or any part thereof, for any illegal purpose or violate any \n",
      "Nasdaq\n",
      " \n",
      "\n",
      "Rule or other applicable \n",
      "law, rule or regulation. \n",
      "Subscriber may not present the Information rendered in any unfair, misleading or \n",
      "discriminatory format. Subscriber shall take reasonable security precautions to prevent unauthorized Persons from gaining acc\n",
      "ess \n",
      "to the Information. \n",
      " \n",
      "a.\n",
      " \n",
      "NON\n",
      "-\n",
      "PROFESSIONAL SUBSCRIBER \n",
      "\n",
      " \n",
      "For Non\n",
      "-\n",
      "Professional Subscriber\n",
      "s\n",
      ", the Information is licensed only for personal \n",
      "use.\n",
      " \n",
      "By representing to \n",
      "Vendor\n",
      " \n",
      "that Subscriber is a Non\n",
      "-\n",
      "Professional Subscriber, or by continuing to receive the \n",
      "Information at a Non\n",
      "-\n",
      "Professional Subscriber rate, Subscriber is affirming to \n",
      "Vendor\n",
      " \n",
      "and to \n",
      "Nasdaq\n",
      " \n",
      "that Subscriber meets \n",
      "the definition of Non\n",
      "-\n",
      "Professional Subscriber as set\n",
      " \n",
      "forth in \n",
      "Section \n",
      "1\n",
      "6\n",
      " \n",
      "of this Agreement. A Non\n",
      "-\n",
      "Professional Subscriber \n",
      "shall comply promptly with any reasonable request from \n",
      "Nasdaq\n",
      " \n",
      "for information regarding the Non\n",
      "-\n",
      "Professional \n",
      "\n",
      "on.\n",
      " \n",
      "b. \n",
      "PROFESSIONAL SUBSCRIBER \n",
      "\n",
      " \n",
      "For Professional Subscriber\n",
      "s\n",
      ", the Information is licensed for the internal business use \n",
      "and/or personal use of the Professional Subscriber. Professional Subscribers may, on a non\n",
      "-\n",
      "continuous basis, furnish \n",
      "limited amounts of the Information to customers in written advertisements, corr\n",
      "espondence or other literature or during \n",
      "voice telephonic conversations not entailing computerized voice, automated information inquiry systems or similar \n",
      "technologies. Upon request, Professional Subscribers shall make its premises available to \n",
      "Nasdaq\n",
      " \n",
      "for \n",
      "physical inspection \n",
      "of \n",
      "Vendor\n",
      "'s Service and of Professional Subscriber's use of the Information (including review of any records regarding use \n",
      "of or access to the Information and the number and locations of all devices that receive Information), all at rea\n",
      "sonable \n",
      "times, upon reasonable notice, to ensure compliance with this Agreement. \n",
      " \n",
      "2.\n",
      " \n",
      "PROPRIETARY DATA.\n",
      " \n",
      "Nasdaq\n",
      " \n",
      "grants to Subscriber a nonexclusive, non\n",
      "-\n",
      "transferable license during the term of the Agreement to \n",
      "receive and use the Information transmitted to it by \n",
      "Vendor\n",
      " \n",
      "and thereafter to use such Information as permitted under the terms \n",
      "of this Agreement and/or the \n",
      "U\n",
      "TP Plan Requirements\n",
      ". Subscriber acknowledges and agrees that \n",
      "Nasdaq\n",
      " \n",
      "has proprietary rights \n",
      "to\n",
      " \n",
      "the Information that originates on or derives from markets regulated \n",
      "or operated by \n",
      "Nasdaq\n",
      ", and compilation or other rights\n",
      " \n",
      "to\n",
      " \n",
      "Information gathered from other so\n",
      "urces. Subscriber further acknowledges and agrees that \n",
      "Nasdaq\n",
      "'s third\n",
      "-\n",
      "party information \n",
      "providers have exclusive proprietary rights \n",
      "to\n",
      " \n",
      "their respective Information. In the event of any misappropriation or misuse by \n",
      "Subscriber or anyone who accesses the Inf\n",
      "ormation through Subscriber, \n",
      "Nasdaq\n",
      " \n",
      "or its third\n",
      "-\n",
      "party information providers shall have \n",
      "the right to obtain injunctive relief for its respective materials. Subscriber will attribute source as appropriate under all\n",
      " \n",
      "the \n",
      "circumstances. \n",
      " \n",
      "3\n",
      ".\n",
      " \n",
      "PAYMENT.\n",
      " \n",
      "Subscriber shall assume full and complete responsibility for the payment of any taxes, charges or assessments imposed \n",
      "on Subscriber or \n",
      "Nasdaq\n",
      " \n",
      "(except for federal, state or local income taxes, if any, imposed on \n",
      "Nasdaq\n",
      ") by any foreign or domestic \n",
      "national, \n",
      "state, provincial or local governmental bodies, or subdivisions thereof, and any penalties or interest relating to the \n",
      "provision of the Information to Subscriber. Interest shall be due from the date of the invoice to the time that the amount(s)\n",
      " \n",
      "that are \n",
      "du\n",
      "e have been paid. To the extent permitted by applicable law, Subscriber acknowledges and agrees that the termination of the \n",
      "Vendor\n",
      "'s Service for failure to make payments shall not be considered an improper limitation of access by \n",
      "Nasdaq\n",
      ". For Professional \n",
      "S\n",
      "ubscribers, if any payment is due directly to \n",
      "Nasdaq\n",
      " \n",
      "under this Agreement, payment in full is due \n",
      "Nasdaq\n",
      " \n",
      "in\n",
      " \n",
      "immediately available \n",
      "funds, in \n",
      "US Dollars\n",
      " \n",
      "by a check to \n",
      "Nasdaq\n",
      ", by electronic funds transfer to an institution of \n",
      "Nasdaq\n",
      "\n",
      " \n",
      "within \n",
      "fifteen \n",
      "(\n",
      "15\n",
      ") \n",
      "days of the date of an invoice, whether or not use is made of, or access is made to, the Information.\n",
      " \n",
      " \n",
      "4\n",
      ".\n",
      " \n",
      "SYSTEM.\n",
      " \n",
      "Subscriber acknowledges that \n",
      "Nasdaq\n",
      ", in its sole discretion, may from time\n",
      "-\n",
      "to\n",
      "-\n",
      "time make modifications to its system or \n",
      "the Inform\n",
      "ation. Such modifications may require corresponding changes to be made in \n",
      "Vendor\n",
      "'s Service. Changes or the failure to \n",
      "make timely changes by \n",
      "Vendor\n",
      " \n",
      "or Subscriber may sever or affect Subscriber's access to or use of the Information. \n",
      "Nasdaq\n",
      " \n",
      "shall not \n",
      "be responsible for such effects. \n",
      "Nasdaq\n",
      " \n",
      "does not endorse or approve any equipment, \n",
      "Vendor\n",
      " \n",
      "or \n",
      "Vendor\n",
      "'s Service. \n",
      " \n",
      "5\n",
      ".\n",
      " \n",
      "EXCLUSIVE REMEDY.\n",
      " \n",
      "Nasdaq\n",
      " \n",
      "shall endeavor to offer the Information as promptly and accurately as is reasonably practicable. In \n",
      "the ev\n",
      "ent that the Information is not available as a result of failure by \n",
      "Nasdaq\n",
      " \n",
      "to perform its obligations under this Agreement, \n",
      "Nasdaq\n",
      " \n",
      "will endeavor to correct any such failure. If the Information is not available, is delayed, is interrupted, is incomplete, is\n",
      " \n",
      "not \n",
      "accurate or is otherwise materially affected for a continuous period of four (4) hours or more during the time that \n",
      "Nasdaq\n",
      " \n",
      "regularly \n",
      "transmits the Information due to the fault of \n",
      "Nasdaq\n",
      " \n",
      "(except for a reason permitted in this Agreement or in \n",
      "Nasdaq\n",
      "\n",
      "with the \n",
      "Vendor\n",
      "\n",
      " \n",
      "other P\n",
      "\n",
      "Nasdaq\n",
      " \n",
      "shall be: \n",
      " \n",
      "a.\n",
      " \n",
      "If Subscriber or any other P\n",
      "erson continues to receive the Information or any other data and/or information offered by \n",
      "\n"
     ]
    }
   ],
   "source": [
    "mypdf = open(r'data/testing.pdf', mode='rb')\n",
    "\n",
    "pdf_document = PyPDF2.PdfFileReader(mypdf)\n",
    "pdf_document.numPages\n",
    "page_one = pdf_document.getPage(0)\n",
    "\n",
    "print(page_one.extractText())"
   ]
  },
  {
   "cell_type": "code",
   "execution_count": null,
   "id": "9c528d00",
   "metadata": {},
   "outputs": [],
   "source": []
  }
 ],
 "metadata": {
  "kernelspec": {
   "display_name": "Python 3 (ipykernel)",
   "language": "python",
   "name": "python3"
  },
  "language_info": {
   "codemirror_mode": {
    "name": "ipython",
    "version": 3
   },
   "file_extension": ".py",
   "mimetype": "text/x-python",
   "name": "python",
   "nbconvert_exporter": "python",
   "pygments_lexer": "ipython3",
   "version": "3.8.3"
  },
  "toc": {
   "base_numbering": 1,
   "nav_menu": {},
   "number_sections": true,
   "sideBar": true,
   "skip_h1_title": false,
   "title_cell": "Table of Contents",
   "title_sidebar": "Contents",
   "toc_cell": false,
   "toc_position": {},
   "toc_section_display": true,
   "toc_window_display": false
  },
  "varInspector": {
   "cols": {
    "lenName": 16,
    "lenType": 16,
    "lenVar": 40
   },
   "kernels_config": {
    "python": {
     "delete_cmd_postfix": "",
     "delete_cmd_prefix": "del ",
     "library": "var_list.py",
     "varRefreshCmd": "print(var_dic_list())"
    },
    "r": {
     "delete_cmd_postfix": ") ",
     "delete_cmd_prefix": "rm(",
     "library": "var_list.r",
     "varRefreshCmd": "cat(var_dic_list()) "
    }
   },
   "types_to_exclude": [
    "module",
    "function",
    "builtin_function_or_method",
    "instance",
    "_Feature"
   ],
   "window_display": false
  }
 },
 "nbformat": 4,
 "nbformat_minor": 5
}
